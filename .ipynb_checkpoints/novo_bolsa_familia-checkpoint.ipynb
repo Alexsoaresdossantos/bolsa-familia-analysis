{
 "cells": [
  {
   "cell_type": "markdown",
   "id": "55c94543",
   "metadata": {},
   "source": [
    "# Novo Bolsa Família\n",
    "\n",
    "O programa Bolsa família foi recriado e, desde janeiro de 2023, oferece um pagamento mínimo de R$600,00 para cerca de 21 milhões de famílias. Em março de 2023, foi implementado um pagamento adicional de R$150,00 por criança de 0 a 6 anos, com foco na primeira infância transferido R$ 1,33 bilhão a amis para 8,9 milhões de familias"
   ]
  },
  {
   "cell_type": "code",
   "execution_count": 1,
   "id": "0bf0c178",
   "metadata": {},
   "outputs": [],
   "source": [
    "import pandas as pd\n",
    "import pyodbc"
   ]
  },
  {
   "cell_type": "code",
   "execution_count": 2,
   "id": "d498048f",
   "metadata": {},
   "outputs": [
    {
     "data": {
      "text/plain": [
       "['SQL Server',\n",
       " 'SQLite3 ODBC Driver',\n",
       " 'SQLite ODBC Driver',\n",
       " 'SQLite ODBC (UTF-8) Driver',\n",
       " 'Microsoft Access Driver (*.mdb, *.accdb)',\n",
       " 'Microsoft Excel Driver (*.xls, *.xlsx, *.xlsm, *.xlsb)',\n",
       " 'Microsoft Access Text Driver (*.txt, *.csv)',\n",
       " 'Microsoft Access dBASE Driver (*.dbf, *.ndx, *.mdx)']"
      ]
     },
     "execution_count": 2,
     "metadata": {},
     "output_type": "execute_result"
    }
   ],
   "source": [
    "pyodbc.drivers()"
   ]
  },
  {
   "cell_type": "code",
   "execution_count": 3,
   "id": "bd766c6f",
   "metadata": {},
   "outputs": [
    {
     "name": "stdout",
     "output_type": "stream",
     "text": [
      "conexão bem sucedida\n"
     ]
    }
   ],
   "source": [
    "dados_conexao = ('Driver={SQLite3 ODBC Driver};Server=localhost;Database=bolsa_familia.db')\n",
    "\n",
    "conexao = pyodbc.connect(dados_conexao)\n",
    "\n",
    "print('conexão bem sucedida')"
   ]
  },
  {
   "cell_type": "code",
   "execution_count": 4,
   "id": "b7ec21f4",
   "metadata": {},
   "outputs": [],
   "source": [
    "cursor = conexao.cursor()"
   ]
  },
  {
   "cell_type": "code",
   "execution_count": 5,
   "id": "859ec393",
   "metadata": {},
   "outputs": [
    {
     "ename": "",
     "evalue": "",
     "output_type": "error",
     "traceback": [
      "\u001b[1;31mThe Kernel crashed while executing code in the current cell or a previous cell. \n",
      "\u001b[1;31mPlease review the code in the cell(s) to identify a possible cause of the failure. \n",
      "\u001b[1;31mClick <a href='https://aka.ms/vscodeJupyterKernelCrash'>here</a> for more info. \n",
      "\u001b[1;31mView Jupyter <a href='command:jupyter.viewOutput'>log</a> for further details."
     ]
    }
   ],
   "source": [
    "cursor.execute('select * from bolsa_familia')"
   ]
  },
  {
   "cell_type": "code",
   "execution_count": null,
   "id": "048f23a5",
   "metadata": {},
   "outputs": [],
   "source": []
  },
  {
   "cell_type": "code",
   "execution_count": null,
   "id": "a92ead39",
   "metadata": {},
   "outputs": [],
   "source": []
  },
  {
   "cell_type": "code",
   "execution_count": null,
   "id": "e38e4ec2",
   "metadata": {},
   "outputs": [],
   "source": []
  },
  {
   "cell_type": "code",
   "execution_count": null,
   "id": "c875899a",
   "metadata": {},
   "outputs": [],
   "source": []
  },
  {
   "cell_type": "code",
   "execution_count": null,
   "id": "670b4595",
   "metadata": {},
   "outputs": [],
   "source": []
  }
 ],
 "metadata": {
  "kernelspec": {
   "display_name": "base",
   "language": "python",
   "name": "python3"
  },
  "language_info": {
   "codemirror_mode": {
    "name": "ipython",
    "version": 3
   },
   "file_extension": ".py",
   "mimetype": "text/x-python",
   "name": "python",
   "nbconvert_exporter": "python",
   "pygments_lexer": "ipython3",
   "version": "3.11.7"
  }
 },
 "nbformat": 4,
 "nbformat_minor": 5
}
